{
 "cells": [
  {
   "cell_type": "code",
   "execution_count": 249,
   "metadata": {},
   "outputs": [],
   "source": [
    "import numpy as np\n",
    "import pandas as pd\n",
    "import matplotlib.pyplot as plt\n",
    "from scipy.stats.mstats import trimboth\n",
    "from sklearn.cluster import KMeans\n",
    "from sklearn.preprocessing import OneHotEncoder, StandardScaler\n",
    "import hyperopt\n",
    "from hyperopt import hp, fmin, tpe, STATUS_OK, Trials\n",
    "from hyperopt.pyll import scope\n",
    "from sklearn.ensemble import IsolationForest\n",
    "from sklearn.preprocessing import StandardScaler\n",
    "from sklearn.feature_selection import SelectKBest, f_regression\n",
    "from sklearn.model_selection import cross_val_score, train_test_split\n",
    "from sklearn.metrics import make_scorer, mean_absolute_error\n",
    "import lightgbm as lgb\n",
    "import copy\n",
    "import matplotlib.pyplot as plt\n",
    "import seaborn as sns"
   ]
  },
  {
   "cell_type": "code",
   "execution_count": 250,
   "metadata": {},
   "outputs": [],
   "source": [
    "df = pd.read_csv('CL_megafon_Cup IT_2020_final_data.csv', sep=';')\n",
    "dates = pd.read_csv('Dates.csv', sep=';')"
   ]
  },
  {
   "cell_type": "code",
   "execution_count": 251,
   "metadata": {},
   "outputs": [
    {
     "data": {
      "text/html": [
       "<div>\n",
       "<style scoped>\n",
       "    .dataframe tbody tr th:only-of-type {\n",
       "        vertical-align: middle;\n",
       "    }\n",
       "\n",
       "    .dataframe tbody tr th {\n",
       "        vertical-align: top;\n",
       "    }\n",
       "\n",
       "    .dataframe thead th {\n",
       "        text-align: right;\n",
       "    }\n",
       "</style>\n",
       "<table border=\"1\" class=\"dataframe\">\n",
       "  <thead>\n",
       "    <tr style=\"text-align: right;\">\n",
       "      <th></th>\n",
       "      <th>time_start</th>\n",
       "      <th>time_end</th>\n",
       "      <th>place_latitude</th>\n",
       "      <th>place_longitude</th>\n",
       "    </tr>\n",
       "  </thead>\n",
       "  <tbody>\n",
       "    <tr>\n",
       "      <td>0</td>\n",
       "      <td>2019-08-24 14:23:56</td>\n",
       "      <td>2019-08-24 18:54:47</td>\n",
       "      <td>28.102908</td>\n",
       "      <td>113.617867</td>\n",
       "    </tr>\n",
       "    <tr>\n",
       "      <td>1</td>\n",
       "      <td>2018-06-19 08:56:22</td>\n",
       "      <td>2018-06-19 12:15:26</td>\n",
       "      <td>28.102908</td>\n",
       "      <td>113.617867</td>\n",
       "    </tr>\n",
       "    <tr>\n",
       "      <td>2</td>\n",
       "      <td>2018-08-29 14:00:32</td>\n",
       "      <td>2018-08-29 14:37:51</td>\n",
       "      <td>28.102908</td>\n",
       "      <td>113.617867</td>\n",
       "    </tr>\n",
       "    <tr>\n",
       "      <td>3</td>\n",
       "      <td>2019-12-10 16:01:26</td>\n",
       "      <td>2019-12-10 16:35:22</td>\n",
       "      <td>28.102908</td>\n",
       "      <td>113.617867</td>\n",
       "    </tr>\n",
       "    <tr>\n",
       "      <td>4</td>\n",
       "      <td>2019-12-10 13:39:42</td>\n",
       "      <td>2019-12-10 17:58:22</td>\n",
       "      <td>28.999495</td>\n",
       "      <td>115.167583</td>\n",
       "    </tr>\n",
       "  </tbody>\n",
       "</table>\n",
       "</div>"
      ],
      "text/plain": [
       "            time_start             time_end  place_latitude  place_longitude\n",
       "0  2019-08-24 14:23:56  2019-08-24 18:54:47       28.102908       113.617867\n",
       "1  2018-06-19 08:56:22  2018-06-19 12:15:26       28.102908       113.617867\n",
       "2  2018-08-29 14:00:32  2018-08-29 14:37:51       28.102908       113.617867\n",
       "3  2019-12-10 16:01:26  2019-12-10 16:35:22       28.102908       113.617867\n",
       "4  2019-12-10 13:39:42  2019-12-10 17:58:22       28.999495       115.167583"
      ]
     },
     "execution_count": 251,
     "metadata": {},
     "output_type": "execute_result"
    }
   ],
   "source": [
    "df.head()"
   ]
  },
  {
   "cell_type": "code",
   "execution_count": 322,
   "metadata": {},
   "outputs": [],
   "source": [
    "def pipeline(df):\n",
    "    df['time_start'] = pd.to_datetime(df['time_start'], yearfirst=True)\n",
    "    df.sort_values(by='time_start', ascending=True, inplace=True)\n",
    "    preds = km.predict(df[['place_latitude', 'place_longitude']])\n",
    "    df['distance'] = 0\n",
    "    for i in range(n_cl):\n",
    "        df.loc[preds == i, 'distance'] = distance(df[preds == i]['place_latitude'], df[preds == i]['place_longitude'], centers[i, 0], centers[i, 1])\n",
    "    df['geo_cluster'] = preds\n",
    "    df['date_start'] = df['time_start'].dt.date\n",
    "    dates['Date'] = pd.to_datetime(dates['Date'])\n",
    "    df['date_start'] = pd.to_datetime(df['date_start'])\n",
    "    df = pd.merge(df, dates, how='left', left_on='date_start', right_on='Date')\n",
    "    df['hour'] = df['time_start'].dt.hour\n",
    "    df['Weekday'] = df['time_start'].dt.dayofweek\n",
    "    encoded_seasons = oh_season.transform(df['Season'].values.reshape(-1, 1))\n",
    "    encoded_weekdays = oh_weekday.transform(df['Weekday'].values.reshape(-1, 1))\n",
    "    encoded_geo = oh_geo.transform(df['geo_cluster'].values.reshape(-1, 1))\n",
    "    X = df[['place_latitude', 'place_longitude', 'distance', 'Weekday', 'half_holiday', 'Holiday', 'Holiday_weekends',\n",
    "       'Regular_weekends', 'All_weekends', 'Year', 'Month', 'number_in_Year', 'number_in_Month', 'hour']]\n",
    "    X = np.concatenate((X.values, encoded_geo, encoded_seasons, encoded_weekdays), axis=1)\n",
    "    X = scaler.transform(X)\n",
    "    return X"
   ]
  },
  {
   "cell_type": "code",
   "execution_count": 253,
   "metadata": {},
   "outputs": [
    {
     "data": {
      "text/html": [
       "<div>\n",
       "<style scoped>\n",
       "    .dataframe tbody tr th:only-of-type {\n",
       "        vertical-align: middle;\n",
       "    }\n",
       "\n",
       "    .dataframe tbody tr th {\n",
       "        vertical-align: top;\n",
       "    }\n",
       "\n",
       "    .dataframe thead th {\n",
       "        text-align: right;\n",
       "    }\n",
       "</style>\n",
       "<table border=\"1\" class=\"dataframe\">\n",
       "  <thead>\n",
       "    <tr style=\"text-align: right;\">\n",
       "      <th></th>\n",
       "      <th>Date</th>\n",
       "      <th>Weekday</th>\n",
       "      <th>half_holiday</th>\n",
       "      <th>Holiday</th>\n",
       "      <th>Holiday_weekends</th>\n",
       "      <th>Regular_weekends</th>\n",
       "      <th>All_weekends</th>\n",
       "      <th>Year</th>\n",
       "      <th>Month</th>\n",
       "      <th>number_in_Year</th>\n",
       "      <th>number_in_Month</th>\n",
       "      <th>Season</th>\n",
       "    </tr>\n",
       "  </thead>\n",
       "  <tbody>\n",
       "    <tr>\n",
       "      <td>0</td>\n",
       "      <td>2018-01-01</td>\n",
       "      <td>Monday</td>\n",
       "      <td>0</td>\n",
       "      <td>1</td>\n",
       "      <td>1</td>\n",
       "      <td>0</td>\n",
       "      <td>1</td>\n",
       "      <td>2018</td>\n",
       "      <td>1</td>\n",
       "      <td>1</td>\n",
       "      <td>1</td>\n",
       "      <td>Winter</td>\n",
       "    </tr>\n",
       "    <tr>\n",
       "      <td>1</td>\n",
       "      <td>2018-01-02</td>\n",
       "      <td>Tuesday</td>\n",
       "      <td>0</td>\n",
       "      <td>0</td>\n",
       "      <td>1</td>\n",
       "      <td>0</td>\n",
       "      <td>1</td>\n",
       "      <td>2018</td>\n",
       "      <td>1</td>\n",
       "      <td>2</td>\n",
       "      <td>2</td>\n",
       "      <td>Winter</td>\n",
       "    </tr>\n",
       "    <tr>\n",
       "      <td>2</td>\n",
       "      <td>2018-01-03</td>\n",
       "      <td>Wednesday</td>\n",
       "      <td>0</td>\n",
       "      <td>0</td>\n",
       "      <td>1</td>\n",
       "      <td>0</td>\n",
       "      <td>1</td>\n",
       "      <td>2018</td>\n",
       "      <td>1</td>\n",
       "      <td>3</td>\n",
       "      <td>3</td>\n",
       "      <td>Winter</td>\n",
       "    </tr>\n",
       "    <tr>\n",
       "      <td>3</td>\n",
       "      <td>2018-01-04</td>\n",
       "      <td>Thursday</td>\n",
       "      <td>0</td>\n",
       "      <td>0</td>\n",
       "      <td>1</td>\n",
       "      <td>0</td>\n",
       "      <td>1</td>\n",
       "      <td>2018</td>\n",
       "      <td>1</td>\n",
       "      <td>4</td>\n",
       "      <td>4</td>\n",
       "      <td>Winter</td>\n",
       "    </tr>\n",
       "    <tr>\n",
       "      <td>4</td>\n",
       "      <td>2018-01-05</td>\n",
       "      <td>Friday</td>\n",
       "      <td>0</td>\n",
       "      <td>0</td>\n",
       "      <td>1</td>\n",
       "      <td>0</td>\n",
       "      <td>1</td>\n",
       "      <td>2018</td>\n",
       "      <td>1</td>\n",
       "      <td>5</td>\n",
       "      <td>5</td>\n",
       "      <td>Winter</td>\n",
       "    </tr>\n",
       "  </tbody>\n",
       "</table>\n",
       "</div>"
      ],
      "text/plain": [
       "         Date    Weekday  half_holiday  Holiday  Holiday_weekends  \\\n",
       "0  2018-01-01     Monday             0        1                 1   \n",
       "1  2018-01-02    Tuesday             0        0                 1   \n",
       "2  2018-01-03  Wednesday             0        0                 1   \n",
       "3  2018-01-04   Thursday             0        0                 1   \n",
       "4  2018-01-05     Friday             0        0                 1   \n",
       "\n",
       "   Regular_weekends  All_weekends  Year  Month  number_in_Year  \\\n",
       "0                 0             1  2018      1               1   \n",
       "1                 0             1  2018      1               2   \n",
       "2                 0             1  2018      1               3   \n",
       "3                 0             1  2018      1               4   \n",
       "4                 0             1  2018      1               5   \n",
       "\n",
       "   number_in_Month  Season  \n",
       "0                1  Winter  \n",
       "1                2  Winter  \n",
       "2                3  Winter  \n",
       "3                4  Winter  \n",
       "4                5  Winter  "
      ]
     },
     "execution_count": 253,
     "metadata": {},
     "output_type": "execute_result"
    }
   ],
   "source": [
    "dates.head()"
   ]
  },
  {
   "cell_type": "code",
   "execution_count": 254,
   "metadata": {},
   "outputs": [],
   "source": [
    "df['time_start'] = pd.to_datetime(df['time_start'], yearfirst=True)\n",
    "df['time_end'] = pd.to_datetime(df['time_end'], yearfirst=True)"
   ]
  },
  {
   "cell_type": "code",
   "execution_count": 255,
   "metadata": {},
   "outputs": [],
   "source": [
    "df.sort_values(by='time_start', ascending=True, inplace=True)"
   ]
  },
  {
   "cell_type": "code",
   "execution_count": 256,
   "metadata": {},
   "outputs": [],
   "source": [
    "df['delta'] = (df['time_end'] - df['time_start']).dt.seconds / 60"
   ]
  },
  {
   "cell_type": "code",
   "execution_count": 257,
   "metadata": {},
   "outputs": [
    {
     "data": {
      "text/plain": [
       "<matplotlib.collections.PathCollection at 0x14593450eb8>"
      ]
     },
     "execution_count": 257,
     "metadata": {},
     "output_type": "execute_result"
    },
    {
     "data": {
      "image/png": "[encoded data removed]",
      "text/plain": [
       "<Figure size 1080x1080 with 1 Axes>"
      ]
     },
     "metadata": {},
     "output_type": "display_data"
    }
   ],
   "source": [
    "plt.figure(figsize=(15, 15))\n",
    "plt.scatter(df['place_latitude'], df['place_longitude'])"
   ]
  },
  {
   "cell_type": "code",
   "execution_count": 259,
   "metadata": {},
   "outputs": [],
   "source": [
    "n_cl = 15\n",
    "km = KMeans(n_clusters=n_cl, random_state=42)"
   ]
  },
  {
   "cell_type": "code",
   "execution_count": 260,
   "metadata": {},
   "outputs": [
    {
     "data": {
      "text/plain": [
       "KMeans(algorithm='auto', copy_x=True, init='k-means++', max_iter=300,\n",
       "    n_clusters=15, n_init=10, n_jobs=None, precompute_distances='auto',\n",
       "    random_state=42, tol=0.0001, verbose=0)"
      ]
     },
     "execution_count": 260,
     "metadata": {},
     "output_type": "execute_result"
    }
   ],
   "source": [
    "km.fit(df[['place_latitude', 'place_longitude']])"
   ]
  },
  {
   "cell_type": "code",
   "execution_count": 261,
   "metadata": {},
   "outputs": [],
   "source": [
    "centers = km.cluster_centers_"
   ]
  },
  {
   "cell_type": "code",
   "execution_count": 262,
   "metadata": {},
   "outputs": [],
   "source": [
    "def distance(s_lat, s_lng, e_lat, e_lng):\n",
    "   R = 6373.0\n",
    "   s_lat = s_lat*np.pi/180.0                      \n",
    "   s_lng = np.deg2rad(s_lng)     \n",
    "   e_lat = np.deg2rad(e_lat)                       \n",
    "   e_lng = np.deg2rad(e_lng)  \n",
    "   d = np.sin((e_lat - s_lat)/2)**2 + np.cos(s_lat)*np.cos(e_lat) * np.sin((e_lng - s_lng)/2)**2\n",
    "   return 2 * R * np.arcsin(np.sqrt(d))"
   ]
  },
  {
   "cell_type": "code",
   "execution_count": 263,
   "metadata": {},
   "outputs": [],
   "source": [
    "df['distance'] = 0"
   ]
  },
  {
   "cell_type": "code",
   "execution_count": 264,
   "metadata": {},
   "outputs": [],
   "source": [
    "preds = km.predict(df[['place_latitude', 'place_longitude']])"
   ]
  },
  {
   "cell_type": "code",
   "execution_count": 265,
   "metadata": {},
   "outputs": [],
   "source": [
    "for i in range(n_cl):\n",
    "    df.loc[preds == i, 'distance'] = distance(df[preds == i]['place_latitude'], df[preds == i]['place_longitude'], centers[i, 0], centers[i, 1])"
   ]
  },
  {
   "cell_type": "code",
   "execution_count": 266,
   "metadata": {},
   "outputs": [
    {
     "data": {
      "text/html": [
       "<div>\n",
       "<style scoped>\n",
       "    .dataframe tbody tr th:only-of-type {\n",
       "        vertical-align: middle;\n",
       "    }\n",
       "\n",
       "    .dataframe tbody tr th {\n",
       "        vertical-align: top;\n",
       "    }\n",
       "\n",
       "    .dataframe thead th {\n",
       "        text-align: right;\n",
       "    }\n",
       "</style>\n",
       "<table border=\"1\" class=\"dataframe\">\n",
       "  <thead>\n",
       "    <tr style=\"text-align: right;\">\n",
       "      <th></th>\n",
       "      <th>time_start</th>\n",
       "      <th>time_end</th>\n",
       "      <th>place_latitude</th>\n",
       "      <th>place_longitude</th>\n",
       "      <th>delta</th>\n",
       "      <th>distance</th>\n",
       "    </tr>\n",
       "  </thead>\n",
       "  <tbody>\n",
       "    <tr>\n",
       "      <td>73313</td>\n",
       "      <td>2018-01-01 04:35:56</td>\n",
       "      <td>2018-01-01 12:28:19</td>\n",
       "      <td>28.227964</td>\n",
       "      <td>113.565739</td>\n",
       "      <td>472.383333</td>\n",
       "      <td>49.963254</td>\n",
       "    </tr>\n",
       "    <tr>\n",
       "      <td>17836</td>\n",
       "      <td>2018-01-01 09:30:40</td>\n",
       "      <td>2018-01-01 10:37:56</td>\n",
       "      <td>28.871813</td>\n",
       "      <td>114.592832</td>\n",
       "      <td>67.266667</td>\n",
       "      <td>17.837414</td>\n",
       "    </tr>\n",
       "    <tr>\n",
       "      <td>5389</td>\n",
       "      <td>2018-01-01 09:57:24</td>\n",
       "      <td>2018-01-01 10:16:29</td>\n",
       "      <td>28.844192</td>\n",
       "      <td>114.560353</td>\n",
       "      <td>19.083333</td>\n",
       "      <td>15.840095</td>\n",
       "    </tr>\n",
       "    <tr>\n",
       "      <td>53801</td>\n",
       "      <td>2018-01-01 10:06:01</td>\n",
       "      <td>2018-01-01 12:50:29</td>\n",
       "      <td>28.768786</td>\n",
       "      <td>114.582630</td>\n",
       "      <td>164.466667</td>\n",
       "      <td>7.441194</td>\n",
       "    </tr>\n",
       "    <tr>\n",
       "      <td>56346</td>\n",
       "      <td>2018-01-01 11:07:07</td>\n",
       "      <td>2018-04-13 14:18:41</td>\n",
       "      <td>28.650852</td>\n",
       "      <td>114.595380</td>\n",
       "      <td>191.566667</td>\n",
       "      <td>7.687743</td>\n",
       "    </tr>\n",
       "  </tbody>\n",
       "</table>\n",
       "</div>"
      ],
      "text/plain": [
       "               time_start            time_end  place_latitude  \\\n",
       "73313 2018-01-01 04:35:56 2018-01-01 12:28:19       28.227964   \n",
       "17836 2018-01-01 09:30:40 2018-01-01 10:37:56       28.871813   \n",
       "5389  2018-01-01 09:57:24 2018-01-01 10:16:29       28.844192   \n",
       "53801 2018-01-01 10:06:01 2018-01-01 12:50:29       28.768786   \n",
       "56346 2018-01-01 11:07:07 2018-04-13 14:18:41       28.650852   \n",
       "\n",
       "       place_longitude       delta   distance  \n",
       "73313       113.565739  472.383333  49.963254  \n",
       "17836       114.592832   67.266667  17.837414  \n",
       "5389        114.560353   19.083333  15.840095  \n",
       "53801       114.582630  164.466667   7.441194  \n",
       "56346       114.595380  191.566667   7.687743  "
      ]
     },
     "execution_count": 266,
     "metadata": {},
     "output_type": "execute_result"
    }
   ],
   "source": [
    "df.head()"
   ]
  },
  {
   "cell_type": "code",
   "execution_count": 267,
   "metadata": {},
   "outputs": [
    {
     "data": {
      "image/png": "[encoded data removed]",
      "text/plain": [
       "<Figure size 1080x1080 with 1 Axes>"
      ]
     },
     "metadata": {},
     "output_type": "display_data"
    }
   ],
   "source": [
    "plt.figure(figsize=(15, 15))\n",
    "for i in range(n_cl):\n",
    "    df_plot = df[preds == i]\n",
    "    plt.scatter(df_plot['place_latitude'], df_plot['place_longitude'])"
   ]
  },
  {
   "cell_type": "code",
   "execution_count": 268,
   "metadata": {},
   "outputs": [],
   "source": [
    "df['geo_cluster'] = preds"
   ]
  },
  {
   "cell_type": "code",
   "execution_count": 269,
   "metadata": {},
   "outputs": [
    {
     "data": {
      "text/html": [
       "<div>\n",
       "<style scoped>\n",
       "    .dataframe tbody tr th:only-of-type {\n",
       "        vertical-align: middle;\n",
       "    }\n",
       "\n",
       "    .dataframe tbody tr th {\n",
       "        vertical-align: top;\n",
       "    }\n",
       "\n",
       "    .dataframe thead th {\n",
       "        text-align: right;\n",
       "    }\n",
       "</style>\n",
       "<table border=\"1\" class=\"dataframe\">\n",
       "  <thead>\n",
       "    <tr style=\"text-align: right;\">\n",
       "      <th></th>\n",
       "      <th>time_start</th>\n",
       "      <th>time_end</th>\n",
       "      <th>place_latitude</th>\n",
       "      <th>place_longitude</th>\n",
       "      <th>delta</th>\n",
       "      <th>distance</th>\n",
       "      <th>geo_cluster</th>\n",
       "    </tr>\n",
       "  </thead>\n",
       "  <tbody>\n",
       "    <tr>\n",
       "      <td>73313</td>\n",
       "      <td>2018-01-01 04:35:56</td>\n",
       "      <td>2018-01-01 12:28:19</td>\n",
       "      <td>28.227964</td>\n",
       "      <td>113.565739</td>\n",
       "      <td>472.383333</td>\n",
       "      <td>49.963254</td>\n",
       "      <td>1</td>\n",
       "    </tr>\n",
       "    <tr>\n",
       "      <td>17836</td>\n",
       "      <td>2018-01-01 09:30:40</td>\n",
       "      <td>2018-01-01 10:37:56</td>\n",
       "      <td>28.871813</td>\n",
       "      <td>114.592832</td>\n",
       "      <td>67.266667</td>\n",
       "      <td>17.837414</td>\n",
       "      <td>4</td>\n",
       "    </tr>\n",
       "    <tr>\n",
       "      <td>5389</td>\n",
       "      <td>2018-01-01 09:57:24</td>\n",
       "      <td>2018-01-01 10:16:29</td>\n",
       "      <td>28.844192</td>\n",
       "      <td>114.560353</td>\n",
       "      <td>19.083333</td>\n",
       "      <td>15.840095</td>\n",
       "      <td>4</td>\n",
       "    </tr>\n",
       "    <tr>\n",
       "      <td>53801</td>\n",
       "      <td>2018-01-01 10:06:01</td>\n",
       "      <td>2018-01-01 12:50:29</td>\n",
       "      <td>28.768786</td>\n",
       "      <td>114.582630</td>\n",
       "      <td>164.466667</td>\n",
       "      <td>7.441194</td>\n",
       "      <td>4</td>\n",
       "    </tr>\n",
       "    <tr>\n",
       "      <td>56346</td>\n",
       "      <td>2018-01-01 11:07:07</td>\n",
       "      <td>2018-04-13 14:18:41</td>\n",
       "      <td>28.650852</td>\n",
       "      <td>114.595380</td>\n",
       "      <td>191.566667</td>\n",
       "      <td>7.687743</td>\n",
       "      <td>4</td>\n",
       "    </tr>\n",
       "  </tbody>\n",
       "</table>\n",
       "</div>"
      ],
      "text/plain": [
       "               time_start            time_end  place_latitude  \\\n",
       "73313 2018-01-01 04:35:56 2018-01-01 12:28:19       28.227964   \n",
       "17836 2018-01-01 09:30:40 2018-01-01 10:37:56       28.871813   \n",
       "5389  2018-01-01 09:57:24 2018-01-01 10:16:29       28.844192   \n",
       "53801 2018-01-01 10:06:01 2018-01-01 12:50:29       28.768786   \n",
       "56346 2018-01-01 11:07:07 2018-04-13 14:18:41       28.650852   \n",
       "\n",
       "       place_longitude       delta   distance  geo_cluster  \n",
       "73313       113.565739  472.383333  49.963254            1  \n",
       "17836       114.592832   67.266667  17.837414            4  \n",
       "5389        114.560353   19.083333  15.840095            4  \n",
       "53801       114.582630  164.466667   7.441194            4  \n",
       "56346       114.595380  191.566667   7.687743            4  "
      ]
     },
     "execution_count": 269,
     "metadata": {},
     "output_type": "execute_result"
    }
   ],
   "source": [
    "df.head()"
   ]
  },
  {
   "cell_type": "code",
   "execution_count": 270,
   "metadata": {},
   "outputs": [
    {
     "data": {
      "text/plain": [
       "(array([1.000e+00, 1.000e+00, 1.000e+00, 0.000e+00, 3.000e+00, 0.000e+00,\n",
       "        3.000e+00, 4.000e+00, 1.000e+00, 3.000e+00, 8.000e+00, 2.100e+01,\n",
       "        1.400e+01, 1.500e+01, 1.800e+01, 2.000e+01, 1.400e+01, 1.600e+01,\n",
       "        1.600e+01, 2.500e+01, 4.600e+01, 6.800e+01, 6.500e+01, 3.560e+02,\n",
       "        7.520e+02, 3.950e+03, 6.502e+03, 6.603e+03, 7.523e+03, 7.676e+03,\n",
       "        7.353e+03, 7.020e+03, 6.183e+03, 5.448e+03, 4.958e+03, 4.017e+03,\n",
       "        2.840e+03, 2.251e+03, 2.161e+03, 2.267e+03]),\n",
       " array([-3.40119738, -3.13436038, -2.86752338, -2.60068638, -2.33384938,\n",
       "        -2.06701238, -1.80017538, -1.53333838, -1.26650138, -0.99966438,\n",
       "        -0.73282737, -0.46599037, -0.19915337,  0.06768363,  0.33452063,\n",
       "         0.60135763,  0.86819463,  1.13503163,  1.40186863,  1.66870563,\n",
       "         1.93554263,  2.20237963,  2.46921663,  2.73605363,  3.00289063,\n",
       "         3.26972764,  3.53656464,  3.80340164,  4.07023864,  4.33707564,\n",
       "         4.60391264,  4.87074964,  5.13758664,  5.40442364,  5.67126064,\n",
       "         5.93809764,  6.20493464,  6.47177164,  6.73860864,  7.00544564,\n",
       "         7.27228265]),\n",
       " <a list of 40 Patch objects>)"
      ]
     },
     "execution_count": 270,
     "metadata": {},
     "output_type": "execute_result"
    },
    {
     "data": {
      "image/png": "[encoded data removed]",
      "text/plain": [
       "<Figure size 432x288 with 1 Axes>"
      ]
     },
     "metadata": {},
     "output_type": "display_data"
    }
   ],
   "source": [
    "plt.hist(np.log(df['delta']), bins=40)"
   ]
  },
  {
   "cell_type": "code",
   "execution_count": 271,
   "metadata": {},
   "outputs": [],
   "source": [
    "df['date_start'] = df['time_start'].dt.date"
   ]
  },
  {
   "cell_type": "code",
   "execution_count": 272,
   "metadata": {},
   "outputs": [],
   "source": [
    "dates['Date'] = pd.to_datetime(dates['Date'])\n",
    "df['date_start'] = pd.to_datetime(df['date_start'])\n",
    "df = pd.merge(df, dates, how='left', left_on='date_start', right_on='Date')"
   ]
  },
  {
   "cell_type": "code",
   "execution_count": 208,
   "metadata": {},
   "outputs": [],
   "source": []
  },
  {
   "cell_type": "code",
   "execution_count": 209,
   "metadata": {},
   "outputs": [],
   "source": []
  },
  {
   "cell_type": "code",
   "execution_count": 273,
   "metadata": {},
   "outputs": [
    {
     "data": {
      "text/html": [
       "<div>\n",
       "<style scoped>\n",
       "    .dataframe tbody tr th:only-of-type {\n",
       "        vertical-align: middle;\n",
       "    }\n",
       "\n",
       "    .dataframe tbody tr th {\n",
       "        vertical-align: top;\n",
       "    }\n",
       "\n",
       "    .dataframe thead th {\n",
       "        text-align: right;\n",
       "    }\n",
       "</style>\n",
       "<table border=\"1\" class=\"dataframe\">\n",
       "  <thead>\n",
       "    <tr style=\"text-align: right;\">\n",
       "      <th></th>\n",
       "      <th>time_start</th>\n",
       "      <th>time_end</th>\n",
       "      <th>place_latitude</th>\n",
       "      <th>place_longitude</th>\n",
       "      <th>delta</th>\n",
       "      <th>distance</th>\n",
       "      <th>geo_cluster</th>\n",
       "      <th>date_start</th>\n",
       "      <th>Date</th>\n",
       "      <th>Weekday</th>\n",
       "      <th>half_holiday</th>\n",
       "      <th>Holiday</th>\n",
       "      <th>Holiday_weekends</th>\n",
       "      <th>Regular_weekends</th>\n",
       "      <th>All_weekends</th>\n",
       "      <th>Year</th>\n",
       "      <th>Month</th>\n",
       "      <th>number_in_Year</th>\n",
       "      <th>number_in_Month</th>\n",
       "      <th>Season</th>\n",
       "    </tr>\n",
       "  </thead>\n",
       "  <tbody>\n",
       "    <tr>\n",
       "      <td>0</td>\n",
       "      <td>2018-01-01 04:35:56</td>\n",
       "      <td>2018-01-01 12:28:19</td>\n",
       "      <td>28.227964</td>\n",
       "      <td>113.565739</td>\n",
       "      <td>472.383333</td>\n",
       "      <td>14.733843</td>\n",
       "      <td>2</td>\n",
       "      <td>2018-01-01</td>\n",
       "      <td>2018-01-01</td>\n",
       "      <td>Monday</td>\n",
       "      <td>0</td>\n",
       "      <td>1</td>\n",
       "      <td>1</td>\n",
       "      <td>0</td>\n",
       "      <td>1</td>\n",
       "      <td>2018</td>\n",
       "      <td>1</td>\n",
       "      <td>1</td>\n",
       "      <td>1</td>\n",
       "      <td>Winter</td>\n",
       "    </tr>\n",
       "    <tr>\n",
       "      <td>1</td>\n",
       "      <td>2018-01-01 09:30:40</td>\n",
       "      <td>2018-01-01 10:37:56</td>\n",
       "      <td>28.871813</td>\n",
       "      <td>114.592832</td>\n",
       "      <td>67.266667</td>\n",
       "      <td>9.842783</td>\n",
       "      <td>18</td>\n",
       "      <td>2018-01-01</td>\n",
       "      <td>2018-01-01</td>\n",
       "      <td>Monday</td>\n",
       "      <td>0</td>\n",
       "      <td>1</td>\n",
       "      <td>1</td>\n",
       "      <td>0</td>\n",
       "      <td>1</td>\n",
       "      <td>2018</td>\n",
       "      <td>1</td>\n",
       "      <td>1</td>\n",
       "      <td>1</td>\n",
       "      <td>Winter</td>\n",
       "    </tr>\n",
       "    <tr>\n",
       "      <td>2</td>\n",
       "      <td>2018-01-01 09:57:24</td>\n",
       "      <td>2018-01-01 10:16:29</td>\n",
       "      <td>28.844192</td>\n",
       "      <td>114.560353</td>\n",
       "      <td>19.083333</td>\n",
       "      <td>5.531514</td>\n",
       "      <td>18</td>\n",
       "      <td>2018-01-01</td>\n",
       "      <td>2018-01-01</td>\n",
       "      <td>Monday</td>\n",
       "      <td>0</td>\n",
       "      <td>1</td>\n",
       "      <td>1</td>\n",
       "      <td>0</td>\n",
       "      <td>1</td>\n",
       "      <td>2018</td>\n",
       "      <td>1</td>\n",
       "      <td>1</td>\n",
       "      <td>1</td>\n",
       "      <td>Winter</td>\n",
       "    </tr>\n",
       "    <tr>\n",
       "      <td>3</td>\n",
       "      <td>2018-01-01 10:06:01</td>\n",
       "      <td>2018-01-01 12:50:29</td>\n",
       "      <td>28.768786</td>\n",
       "      <td>114.582630</td>\n",
       "      <td>164.466667</td>\n",
       "      <td>6.065478</td>\n",
       "      <td>18</td>\n",
       "      <td>2018-01-01</td>\n",
       "      <td>2018-01-01</td>\n",
       "      <td>Monday</td>\n",
       "      <td>0</td>\n",
       "      <td>1</td>\n",
       "      <td>1</td>\n",
       "      <td>0</td>\n",
       "      <td>1</td>\n",
       "      <td>2018</td>\n",
       "      <td>1</td>\n",
       "      <td>1</td>\n",
       "      <td>1</td>\n",
       "      <td>Winter</td>\n",
       "    </tr>\n",
       "    <tr>\n",
       "      <td>4</td>\n",
       "      <td>2018-01-01 11:07:07</td>\n",
       "      <td>2018-04-13 14:18:41</td>\n",
       "      <td>28.650852</td>\n",
       "      <td>114.595380</td>\n",
       "      <td>191.566667</td>\n",
       "      <td>17.788399</td>\n",
       "      <td>18</td>\n",
       "      <td>2018-01-01</td>\n",
       "      <td>2018-01-01</td>\n",
       "      <td>Monday</td>\n",
       "      <td>0</td>\n",
       "      <td>1</td>\n",
       "      <td>1</td>\n",
       "      <td>0</td>\n",
       "      <td>1</td>\n",
       "      <td>2018</td>\n",
       "      <td>1</td>\n",
       "      <td>1</td>\n",
       "      <td>1</td>\n",
       "      <td>Winter</td>\n",
       "    </tr>\n",
       "  </tbody>\n",
       "</table>\n",
       "</div>"
      ],
      "text/plain": [
       "           time_start            time_end  place_latitude  place_longitude  \\\n",
       "0 2018-01-01 04:35:56 2018-01-01 12:28:19       28.227964       113.565739   \n",
       "1 2018-01-01 09:30:40 2018-01-01 10:37:56       28.871813       114.592832   \n",
       "2 2018-01-01 09:57:24 2018-01-01 10:16:29       28.844192       114.560353   \n",
       "3 2018-01-01 10:06:01 2018-01-01 12:50:29       28.768786       114.582630   \n",
       "4 2018-01-01 11:07:07 2018-04-13 14:18:41       28.650852       114.595380   \n",
       "\n",
       "        delta   distance  geo_cluster date_start       Date Weekday  \\\n",
       "0  472.383333  14.733843            2 2018-01-01 2018-01-01  Monday   \n",
       "1   67.266667   9.842783           18 2018-01-01 2018-01-01  Monday   \n",
       "2   19.083333   5.531514           18 2018-01-01 2018-01-01  Monday   \n",
       "3  164.466667   6.065478           18 2018-01-01 2018-01-01  Monday   \n",
       "4  191.566667  17.788399           18 2018-01-01 2018-01-01  Monday   \n",
       "\n",
       "   half_holiday  Holiday  Holiday_weekends  Regular_weekends  All_weekends  \\\n",
       "0             0        1                 1                 0             1   \n",
       "1             0        1                 1                 0             1   \n",
       "2             0        1                 1                 0             1   \n",
       "3             0        1                 1                 0             1   \n",
       "4             0        1                 1                 0             1   \n",
       "\n",
       "   Year  Month  number_in_Year  number_in_Month  Season  \n",
       "0  2018      1               1                1  Winter  \n",
       "1  2018      1               1                1  Winter  \n",
       "2  2018      1               1                1  Winter  \n",
       "3  2018      1               1                1  Winter  \n",
       "4  2018      1               1                1  Winter  "
      ]
     },
     "execution_count": 273,
     "metadata": {},
     "output_type": "execute_result"
    }
   ],
   "source": [
    "df_joined.head()"
   ]
  },
  {
   "cell_type": "code",
   "execution_count": 274,
   "metadata": {},
   "outputs": [],
   "source": [
    "df = df_joined.copy()"
   ]
  },
  {
   "cell_type": "code",
   "execution_count": 275,
   "metadata": {},
   "outputs": [
    {
     "data": {
      "text/html": [
       "<div>\n",
       "<style scoped>\n",
       "    .dataframe tbody tr th:only-of-type {\n",
       "        vertical-align: middle;\n",
       "    }\n",
       "\n",
       "    .dataframe tbody tr th {\n",
       "        vertical-align: top;\n",
       "    }\n",
       "\n",
       "    .dataframe thead th {\n",
       "        text-align: right;\n",
       "    }\n",
       "</style>\n",
       "<table border=\"1\" class=\"dataframe\">\n",
       "  <thead>\n",
       "    <tr style=\"text-align: right;\">\n",
       "      <th></th>\n",
       "      <th>time_start</th>\n",
       "      <th>time_end</th>\n",
       "      <th>place_latitude</th>\n",
       "      <th>place_longitude</th>\n",
       "      <th>delta</th>\n",
       "      <th>distance</th>\n",
       "      <th>geo_cluster</th>\n",
       "      <th>date_start</th>\n",
       "      <th>Date</th>\n",
       "      <th>Weekday</th>\n",
       "      <th>half_holiday</th>\n",
       "      <th>Holiday</th>\n",
       "      <th>Holiday_weekends</th>\n",
       "      <th>Regular_weekends</th>\n",
       "      <th>All_weekends</th>\n",
       "      <th>Year</th>\n",
       "      <th>Month</th>\n",
       "      <th>number_in_Year</th>\n",
       "      <th>number_in_Month</th>\n",
       "      <th>Season</th>\n",
       "    </tr>\n",
       "  </thead>\n",
       "  <tbody>\n",
       "    <tr>\n",
       "      <td>0</td>\n",
       "      <td>2018-01-01 04:35:56</td>\n",
       "      <td>2018-01-01 12:28:19</td>\n",
       "      <td>28.227964</td>\n",
       "      <td>113.565739</td>\n",
       "      <td>472.383333</td>\n",
       "      <td>14.733843</td>\n",
       "      <td>2</td>\n",
       "      <td>2018-01-01</td>\n",
       "      <td>2018-01-01</td>\n",
       "      <td>Monday</td>\n",
       "      <td>0</td>\n",
       "      <td>1</td>\n",
       "      <td>1</td>\n",
       "      <td>0</td>\n",
       "      <td>1</td>\n",
       "      <td>2018</td>\n",
       "      <td>1</td>\n",
       "      <td>1</td>\n",
       "      <td>1</td>\n",
       "      <td>Winter</td>\n",
       "    </tr>\n",
       "    <tr>\n",
       "      <td>1</td>\n",
       "      <td>2018-01-01 09:30:40</td>\n",
       "      <td>2018-01-01 10:37:56</td>\n",
       "      <td>28.871813</td>\n",
       "      <td>114.592832</td>\n",
       "      <td>67.266667</td>\n",
       "      <td>9.842783</td>\n",
       "      <td>18</td>\n",
       "      <td>2018-01-01</td>\n",
       "      <td>2018-01-01</td>\n",
       "      <td>Monday</td>\n",
       "      <td>0</td>\n",
       "      <td>1</td>\n",
       "      <td>1</td>\n",
       "      <td>0</td>\n",
       "      <td>1</td>\n",
       "      <td>2018</td>\n",
       "      <td>1</td>\n",
       "      <td>1</td>\n",
       "      <td>1</td>\n",
       "      <td>Winter</td>\n",
       "    </tr>\n",
       "    <tr>\n",
       "      <td>2</td>\n",
       "      <td>2018-01-01 09:57:24</td>\n",
       "      <td>2018-01-01 10:16:29</td>\n",
       "      <td>28.844192</td>\n",
       "      <td>114.560353</td>\n",
       "      <td>19.083333</td>\n",
       "      <td>5.531514</td>\n",
       "      <td>18</td>\n",
       "      <td>2018-01-01</td>\n",
       "      <td>2018-01-01</td>\n",
       "      <td>Monday</td>\n",
       "      <td>0</td>\n",
       "      <td>1</td>\n",
       "      <td>1</td>\n",
       "      <td>0</td>\n",
       "      <td>1</td>\n",
       "      <td>2018</td>\n",
       "      <td>1</td>\n",
       "      <td>1</td>\n",
       "      <td>1</td>\n",
       "      <td>Winter</td>\n",
       "    </tr>\n",
       "    <tr>\n",
       "      <td>3</td>\n",
       "      <td>2018-01-01 10:06:01</td>\n",
       "      <td>2018-01-01 12:50:29</td>\n",
       "      <td>28.768786</td>\n",
       "      <td>114.582630</td>\n",
       "      <td>164.466667</td>\n",
       "      <td>6.065478</td>\n",
       "      <td>18</td>\n",
       "      <td>2018-01-01</td>\n",
       "      <td>2018-01-01</td>\n",
       "      <td>Monday</td>\n",
       "      <td>0</td>\n",
       "      <td>1</td>\n",
       "      <td>1</td>\n",
       "      <td>0</td>\n",
       "      <td>1</td>\n",
       "      <td>2018</td>\n",
       "      <td>1</td>\n",
       "      <td>1</td>\n",
       "      <td>1</td>\n",
       "      <td>Winter</td>\n",
       "    </tr>\n",
       "    <tr>\n",
       "      <td>4</td>\n",
       "      <td>2018-01-01 11:07:07</td>\n",
       "      <td>2018-04-13 14:18:41</td>\n",
       "      <td>28.650852</td>\n",
       "      <td>114.595380</td>\n",
       "      <td>191.566667</td>\n",
       "      <td>17.788399</td>\n",
       "      <td>18</td>\n",
       "      <td>2018-01-01</td>\n",
       "      <td>2018-01-01</td>\n",
       "      <td>Monday</td>\n",
       "      <td>0</td>\n",
       "      <td>1</td>\n",
       "      <td>1</td>\n",
       "      <td>0</td>\n",
       "      <td>1</td>\n",
       "      <td>2018</td>\n",
       "      <td>1</td>\n",
       "      <td>1</td>\n",
       "      <td>1</td>\n",
       "      <td>Winter</td>\n",
       "    </tr>\n",
       "  </tbody>\n",
       "</table>\n",
       "</div>"
      ],
      "text/plain": [
       "           time_start            time_end  place_latitude  place_longitude  \\\n",
       "0 2018-01-01 04:35:56 2018-01-01 12:28:19       28.227964       113.565739   \n",
       "1 2018-01-01 09:30:40 2018-01-01 10:37:56       28.871813       114.592832   \n",
       "2 2018-01-01 09:57:24 2018-01-01 10:16:29       28.844192       114.560353   \n",
       "3 2018-01-01 10:06:01 2018-01-01 12:50:29       28.768786       114.582630   \n",
       "4 2018-01-01 11:07:07 2018-04-13 14:18:41       28.650852       114.595380   \n",
       "\n",
       "        delta   distance  geo_cluster date_start       Date Weekday  \\\n",
       "0  472.383333  14.733843            2 2018-01-01 2018-01-01  Monday   \n",
       "1   67.266667   9.842783           18 2018-01-01 2018-01-01  Monday   \n",
       "2   19.083333   5.531514           18 2018-01-01 2018-01-01  Monday   \n",
       "3  164.466667   6.065478           18 2018-01-01 2018-01-01  Monday   \n",
       "4  191.566667  17.788399           18 2018-01-01 2018-01-01  Monday   \n",
       "\n",
       "   half_holiday  Holiday  Holiday_weekends  Regular_weekends  All_weekends  \\\n",
       "0             0        1                 1                 0             1   \n",
       "1             0        1                 1                 0             1   \n",
       "2             0        1                 1                 0             1   \n",
       "3             0        1                 1                 0             1   \n",
       "4             0        1                 1                 0             1   \n",
       "\n",
       "   Year  Month  number_in_Year  number_in_Month  Season  \n",
       "0  2018      1               1                1  Winter  \n",
       "1  2018      1               1                1  Winter  \n",
       "2  2018      1               1                1  Winter  \n",
       "3  2018      1               1                1  Winter  \n",
       "4  2018      1               1                1  Winter  "
      ]
     },
     "execution_count": 275,
     "metadata": {},
     "output_type": "execute_result"
    }
   ],
   "source": [
    "df.head()"
   ]
  },
  {
   "cell_type": "code",
   "execution_count": 276,
   "metadata": {},
   "outputs": [],
   "source": [
    "df['hour'] = df['time_start'].dt.hour\n",
    "#df['day'] = df['time_start'].dt.day\n",
    "df['Weekday'] = df['time_start'].dt.dayofweek\n",
    "#df['month'] = df['time_start'].dt.month\n",
    "#df['year'] = df['time_start'].dt.year"
   ]
  },
  {
   "cell_type": "code",
   "execution_count": 277,
   "metadata": {},
   "outputs": [],
   "source": [
    "df['log_target'] = np.log(df['delta'])\n",
    "mask = trimboth(df['log_target'], 0.025).mask\n",
    "df = df[mask == False]"
   ]
  },
  {
   "cell_type": "code",
   "execution_count": 278,
   "metadata": {},
   "outputs": [],
   "source": [
    "oh_season = OneHotEncoder(sparse=False)"
   ]
  },
  {
   "cell_type": "code",
   "execution_count": 279,
   "metadata": {},
   "outputs": [],
   "source": [
    "encoded_seasons = oh_season.fit_transform(df['Season'].values.reshape(-1, 1))"
   ]
  },
  {
   "cell_type": "code",
   "execution_count": 280,
   "metadata": {},
   "outputs": [],
   "source": [
    "oh_weekday = OneHotEncoder(sparse=False)"
   ]
  },
  {
   "cell_type": "code",
   "execution_count": 281,
   "metadata": {},
   "outputs": [
    {
     "name": "stderr",
     "output_type": "stream",
     "text": [
      "C:\\ProgramData\\Anaconda3\\lib\\site-packages\\sklearn\\preprocessing\\_encoders.py:363: FutureWarning: The handling of integer data will change in version 0.22. Currently, the categories are determined based on the range [0, max(values)], while in the future they will be determined based on the unique values.\n",
      "If you want the future behaviour and silence this warning, you can specify \"categories='auto'\".\n",
      "In case you used a LabelEncoder before this OneHotEncoder to convert the categories to integers, then you can now use the OneHotEncoder directly.\n",
      "  warnings.warn(msg, FutureWarning)\n"
     ]
    }
   ],
   "source": [
    "encoded_weekdays = oh_weekday.fit_transform(df['Weekday'].values.reshape(-1, 1))"
   ]
  },
  {
   "cell_type": "code",
   "execution_count": 282,
   "metadata": {},
   "outputs": [
    {
     "name": "stdout",
     "output_type": "stream",
     "text": [
      "time_start\n",
      "time_end\n",
      "place_latitude\n",
      "place_longitude\n",
      "delta\n",
      "distance\n",
      "geo_cluster\n",
      "date_start\n",
      "Date\n",
      "Weekday\n",
      "half_holiday\n",
      "Holiday\n",
      "Holiday_weekends\n",
      "Regular_weekends\n",
      "All_weekends\n",
      "Year\n",
      "Month\n",
      "number_in_Year\n",
      "number_in_Month\n",
      "Season\n",
      "hour\n",
      "log_target\n"
     ]
    }
   ],
   "source": [
    "for i in df.columns:\n",
    "    print(i)"
   ]
  },
  {
   "cell_type": "code",
   "execution_count": 283,
   "metadata": {},
   "outputs": [
    {
     "name": "stderr",
     "output_type": "stream",
     "text": [
      "C:\\ProgramData\\Anaconda3\\lib\\site-packages\\sklearn\\preprocessing\\_encoders.py:363: FutureWarning: The handling of integer data will change in version 0.22. Currently, the categories are determined based on the range [0, max(values)], while in the future they will be determined based on the unique values.\n",
      "If you want the future behaviour and silence this warning, you can specify \"categories='auto'\".\n",
      "In case you used a LabelEncoder before this OneHotEncoder to convert the categories to integers, then you can now use the OneHotEncoder directly.\n",
      "  warnings.warn(msg, FutureWarning)\n"
     ]
    }
   ],
   "source": [
    "oh_geo = OneHotEncoder(sparse=False)\n",
    "encoded_geo = oh_geo.fit_transform(df['geo_cluster'].values.reshape(-1, 1))"
   ]
  },
  {
   "cell_type": "code",
   "execution_count": 284,
   "metadata": {},
   "outputs": [],
   "source": [
    "X = df[['place_latitude', 'place_longitude', 'distance', 'Weekday', 'half_holiday', 'Holiday', 'Holiday_weekends',\n",
    "       'Regular_weekends', 'All_weekends', 'Year', 'Month', 'number_in_Year', 'number_in_Month', 'hour']]\n",
    "y = df['delta']"
   ]
  },
  {
   "cell_type": "code",
   "execution_count": 285,
   "metadata": {},
   "outputs": [
    {
     "data": {
      "text/html": [
       "<div>\n",
       "<style scoped>\n",
       "    .dataframe tbody tr th:only-of-type {\n",
       "        vertical-align: middle;\n",
       "    }\n",
       "\n",
       "    .dataframe tbody tr th {\n",
       "        vertical-align: top;\n",
       "    }\n",
       "\n",
       "    .dataframe thead th {\n",
       "        text-align: right;\n",
       "    }\n",
       "</style>\n",
       "<table border=\"1\" class=\"dataframe\">\n",
       "  <thead>\n",
       "    <tr style=\"text-align: right;\">\n",
       "      <th></th>\n",
       "      <th>place_latitude</th>\n",
       "      <th>place_longitude</th>\n",
       "      <th>distance</th>\n",
       "      <th>Weekday</th>\n",
       "      <th>half_holiday</th>\n",
       "      <th>Holiday</th>\n",
       "      <th>Holiday_weekends</th>\n",
       "      <th>Regular_weekends</th>\n",
       "      <th>All_weekends</th>\n",
       "      <th>Year</th>\n",
       "      <th>Month</th>\n",
       "      <th>number_in_Year</th>\n",
       "      <th>number_in_Month</th>\n",
       "      <th>hour</th>\n",
       "    </tr>\n",
       "  </thead>\n",
       "  <tbody>\n",
       "    <tr>\n",
       "      <td>0</td>\n",
       "      <td>28.227964</td>\n",
       "      <td>113.565739</td>\n",
       "      <td>14.733843</td>\n",
       "      <td>0</td>\n",
       "      <td>0</td>\n",
       "      <td>1</td>\n",
       "      <td>1</td>\n",
       "      <td>0</td>\n",
       "      <td>1</td>\n",
       "      <td>2018</td>\n",
       "      <td>1</td>\n",
       "      <td>1</td>\n",
       "      <td>1</td>\n",
       "      <td>4</td>\n",
       "    </tr>\n",
       "    <tr>\n",
       "      <td>1</td>\n",
       "      <td>28.871813</td>\n",
       "      <td>114.592832</td>\n",
       "      <td>9.842783</td>\n",
       "      <td>0</td>\n",
       "      <td>0</td>\n",
       "      <td>1</td>\n",
       "      <td>1</td>\n",
       "      <td>0</td>\n",
       "      <td>1</td>\n",
       "      <td>2018</td>\n",
       "      <td>1</td>\n",
       "      <td>1</td>\n",
       "      <td>1</td>\n",
       "      <td>9</td>\n",
       "    </tr>\n",
       "    <tr>\n",
       "      <td>3</td>\n",
       "      <td>28.768786</td>\n",
       "      <td>114.582630</td>\n",
       "      <td>6.065478</td>\n",
       "      <td>0</td>\n",
       "      <td>0</td>\n",
       "      <td>1</td>\n",
       "      <td>1</td>\n",
       "      <td>0</td>\n",
       "      <td>1</td>\n",
       "      <td>2018</td>\n",
       "      <td>1</td>\n",
       "      <td>1</td>\n",
       "      <td>1</td>\n",
       "      <td>10</td>\n",
       "    </tr>\n",
       "    <tr>\n",
       "      <td>4</td>\n",
       "      <td>28.650852</td>\n",
       "      <td>114.595380</td>\n",
       "      <td>17.788399</td>\n",
       "      <td>0</td>\n",
       "      <td>0</td>\n",
       "      <td>1</td>\n",
       "      <td>1</td>\n",
       "      <td>0</td>\n",
       "      <td>1</td>\n",
       "      <td>2018</td>\n",
       "      <td>1</td>\n",
       "      <td>1</td>\n",
       "      <td>1</td>\n",
       "      <td>11</td>\n",
       "    </tr>\n",
       "    <tr>\n",
       "      <td>5</td>\n",
       "      <td>28.210833</td>\n",
       "      <td>113.281111</td>\n",
       "      <td>25.673086</td>\n",
       "      <td>0</td>\n",
       "      <td>0</td>\n",
       "      <td>1</td>\n",
       "      <td>1</td>\n",
       "      <td>0</td>\n",
       "      <td>1</td>\n",
       "      <td>2018</td>\n",
       "      <td>1</td>\n",
       "      <td>1</td>\n",
       "      <td>1</td>\n",
       "      <td>13</td>\n",
       "    </tr>\n",
       "  </tbody>\n",
       "</table>\n",
       "</div>"
      ],
      "text/plain": [
       "   place_latitude  place_longitude   distance  Weekday  half_holiday  Holiday  \\\n",
       "0       28.227964       113.565739  14.733843        0             0        1   \n",
       "1       28.871813       114.592832   9.842783        0             0        1   \n",
       "3       28.768786       114.582630   6.065478        0             0        1   \n",
       "4       28.650852       114.595380  17.788399        0             0        1   \n",
       "5       28.210833       113.281111  25.673086        0             0        1   \n",
       "\n",
       "   Holiday_weekends  Regular_weekends  All_weekends  Year  Month  \\\n",
       "0                 1                 0             1  2018      1   \n",
       "1                 1                 0             1  2018      1   \n",
       "3                 1                 0             1  2018      1   \n",
       "4                 1                 0             1  2018      1   \n",
       "5                 1                 0             1  2018      1   \n",
       "\n",
       "   number_in_Year  number_in_Month  hour  \n",
       "0               1                1     4  \n",
       "1               1                1     9  \n",
       "3               1                1    10  \n",
       "4               1                1    11  \n",
       "5               1                1    13  "
      ]
     },
     "execution_count": 285,
     "metadata": {},
     "output_type": "execute_result"
    }
   ],
   "source": [
    "X.head()"
   ]
  },
  {
   "cell_type": "code",
   "execution_count": 286,
   "metadata": {},
   "outputs": [
    {
     "data": {
      "text/plain": [
       "array([[ 28.22796389, 113.56573889,  14.73384309, ...,   1.        ,\n",
       "          1.        ,   4.        ],\n",
       "       [ 28.87181328, 114.59283171,   9.84278306, ...,   1.        ,\n",
       "          1.        ,   9.        ],\n",
       "       [ 28.76878601, 114.58262955,   6.06547783, ...,   1.        ,\n",
       "          1.        ,  10.        ],\n",
       "       ...,\n",
       "       [ 28.12      , 113.63888889,  28.71373886, ...,  31.        ,\n",
       "         31.        ,  20.        ],\n",
       "       [ 28.03505274, 114.59841649,  30.23067804, ...,  31.        ,\n",
       "         31.        ,  20.        ],\n",
       "       [ 28.80557753, 114.55040257,   1.83253628, ...,  31.        ,\n",
       "         31.        ,  21.        ]])"
      ]
     },
     "execution_count": 286,
     "metadata": {},
     "output_type": "execute_result"
    }
   ],
   "source": [
    "X.values"
   ]
  },
  {
   "cell_type": "code",
   "execution_count": 287,
   "metadata": {},
   "outputs": [],
   "source": [
    "sh = np.concatenate((X.values, encoded_geo, encoded_seasons, encoded_weekdays), axis=1)"
   ]
  },
  {
   "cell_type": "code",
   "execution_count": 301,
   "metadata": {},
   "outputs": [],
   "source": [
    "scaler = StandardScaler()\n",
    "X_tr = scaler.fit_transform(sh)"
   ]
  },
  {
   "cell_type": "code",
   "execution_count": 302,
   "metadata": {},
   "outputs": [
    {
     "data": {
      "text/plain": [
       "(74313, 45)"
      ]
     },
     "execution_count": 302,
     "metadata": {},
     "output_type": "execute_result"
    }
   ],
   "source": [
    "X_tr.shape"
   ]
  },
  {
   "cell_type": "code",
   "execution_count": 303,
   "metadata": {},
   "outputs": [],
   "source": [
    "import lightgbm as lgb"
   ]
  },
  {
   "cell_type": "code",
   "execution_count": 304,
   "metadata": {},
   "outputs": [],
   "source": [
    "model = lgb.LGBMRegressor(objective='mape', max_depth=7, silent=False)"
   ]
  },
  {
   "cell_type": "code",
   "execution_count": 305,
   "metadata": {},
   "outputs": [
    {
     "data": {
      "text/plain": [
       "LGBMRegressor(boosting_type='gbdt', class_weight=None, colsample_bytree=1.0,\n",
       "       importance_type='split', learning_rate=0.1, max_depth=7,\n",
       "       min_child_samples=20, min_child_weight=0.001, min_split_gain=0.0,\n",
       "       n_estimators=100, n_jobs=-1, num_leaves=31, objective='mape',\n",
       "       random_state=None, reg_alpha=0.0, reg_lambda=0.0, silent=False,\n",
       "       subsample=1.0, subsample_for_bin=200000, subsample_freq=0)"
      ]
     },
     "execution_count": 305,
     "metadata": {},
     "output_type": "execute_result"
    }
   ],
   "source": [
    "model.fit(X_tr[:60000], y.values[:60000])"
   ]
  },
  {
   "cell_type": "code",
   "execution_count": 306,
   "metadata": {},
   "outputs": [],
   "source": [
    "preds = model.predict(X_tr[:60000])"
   ]
  },
  {
   "cell_type": "code",
   "execution_count": 307,
   "metadata": {},
   "outputs": [],
   "source": [
    "def MAPE(y_true, y_pred):\n",
    "    error = np.abs((y_true - y_pred) / (y_true + 0.001))\n",
    "    return np.mean(error) * 100"
   ]
  },
  {
   "cell_type": "code",
   "execution_count": 308,
   "metadata": {},
   "outputs": [
    {
     "data": {
      "text/plain": [
       "53.5816049412672"
      ]
     },
     "execution_count": 308,
     "metadata": {},
     "output_type": "execute_result"
    }
   ],
   "source": [
    "MAPE(y.values[:60000], preds)"
   ]
  },
  {
   "cell_type": "code",
   "execution_count": 309,
   "metadata": {},
   "outputs": [],
   "source": [
    "preds_test = model.predict(X_tr[60000:])"
   ]
  },
  {
   "cell_type": "code",
   "execution_count": 310,
   "metadata": {},
   "outputs": [
    {
     "data": {
      "text/plain": [
       "54.927579462883244"
      ]
     },
     "execution_count": 310,
     "metadata": {},
     "output_type": "execute_result"
    }
   ],
   "source": [
    "MAPE(y.values[60000:], preds_test)"
   ]
  },
  {
   "cell_type": "code",
   "execution_count": 311,
   "metadata": {},
   "outputs": [],
   "source": [
    "# Пространство перебора гиперпараметров для hyperopt\n",
    "\n",
    "space ={\n",
    "        'boosting_type': hp.choice( 'boosting_type', ['gbdt', 'dart'] ),\n",
    "        'objective': 'mape',\n",
    "        'max_depth': scope.int(hp.quniform(\"max_depth\", 3, 12, 1)),\n",
    "        'n_estimators': scope.int(hp.quniform('n_estimators', 10, 1000, 10)),\n",
    "        'num_leaves': scope.int(hp.quniform ('num_leaves', 10, 500, 1)),\n",
    "        'min_data_in_leaf':  scope.int(hp.quniform ('min_data_in_leaf', 10, 500, 1)),\n",
    "        'feature_fraction': hp.uniform('feature_fraction', 0.5, 1.0),\n",
    "        'bagging_fraction': hp.uniform('bagging_fraction', 0.5, 1.0),\n",
    "        'learning_rate': hp.uniform('learning_rate', 0.001, 0.5),\n",
    "        'min_sum_hessian_in_leaf': hp.uniform('min_sum_hessian_in_leaf', 0, 5),\n",
    "        'lambda_l1': hp.uniform('lambda_l1', 1e-6, 5),\n",
    "        'lambda_l2': hp.uniform('lambda_l2', 1e-6, 5),\n",
    "        'seed': 42\n",
    "       }"
   ]
  },
  {
   "cell_type": "code",
   "execution_count": 312,
   "metadata": {},
   "outputs": [],
   "source": [
    "def objective(space):\n",
    "    clf = lgb.LGBMRegressor(**space)\n",
    "    clf.fit(X_tr[:60000], y.values[:60000])\n",
    "    preds_test = clf.predict(X_tr[60000:])\n",
    "    current_score = MAPE(y.values[60000:], preds_test)\n",
    "    return current_score"
   ]
  },
  {
   "cell_type": "code",
   "execution_count": 313,
   "metadata": {},
   "outputs": [
    {
     "name": "stdout",
     "output_type": "stream",
     "text": [
      " 10%|█████                                             | 5/50 [00:16<02:30,  3.35s/trial, best loss: 54.86345872672737]\n"
     ]
    },
    {
     "ename": "KeyboardInterrupt",
     "evalue": "",
     "output_type": "error",
     "traceback": [
      "\u001b[1;31m---------------------------------------------------------------------------\u001b[0m",
      "\u001b[1;31mKeyboardInterrupt\u001b[0m                         Traceback (most recent call last)",
      "\u001b[1;32m<ipython-input-313-da08ae11c0de>\u001b[0m in \u001b[0;36m<module>\u001b[1;34m()\u001b[0m\n\u001b[1;32m----> 1\u001b[1;33m \u001b[0mbest\u001b[0m \u001b[1;33m=\u001b[0m \u001b[0mfmin\u001b[0m\u001b[1;33m(\u001b[0m\u001b[0mfn\u001b[0m\u001b[1;33m=\u001b[0m\u001b[0mobjective\u001b[0m\u001b[1;33m,\u001b[0m \u001b[0mspace\u001b[0m\u001b[1;33m=\u001b[0m\u001b[0mspace\u001b[0m\u001b[1;33m,\u001b[0m \u001b[0malgo\u001b[0m\u001b[1;33m=\u001b[0m\u001b[0mtpe\u001b[0m\u001b[1;33m.\u001b[0m\u001b[0msuggest\u001b[0m\u001b[1;33m,\u001b[0m \u001b[0mmax_evals\u001b[0m\u001b[1;33m=\u001b[0m\u001b[1;36m50\u001b[0m\u001b[1;33m)\u001b[0m\u001b[1;33m\u001b[0m\u001b[0m\n\u001b[0m",
      "\u001b[1;32mC:\\ProgramData\\Anaconda3\\lib\\site-packages\\hyperopt\\fmin.py\u001b[0m in \u001b[0;36mfmin\u001b[1;34m(fn, space, algo, max_evals, timeout, loss_threshold, trials, rstate, allow_trials_fmin, pass_expr_memo_ctrl, catch_eval_exceptions, verbose, return_argmin, points_to_evaluate, max_queue_len, show_progressbar)\u001b[0m\n\u001b[0;32m    507\u001b[0m \u001b[1;33m\u001b[0m\u001b[0m\n\u001b[0;32m    508\u001b[0m     \u001b[1;31m# next line is where the fmin is actually executed\u001b[0m\u001b[1;33m\u001b[0m\u001b[1;33m\u001b[0m\u001b[0m\n\u001b[1;32m--> 509\u001b[1;33m     \u001b[0mrval\u001b[0m\u001b[1;33m.\u001b[0m\u001b[0mexhaust\u001b[0m\u001b[1;33m(\u001b[0m\u001b[1;33m)\u001b[0m\u001b[1;33m\u001b[0m\u001b[0m\n\u001b[0m\u001b[0;32m    510\u001b[0m \u001b[1;33m\u001b[0m\u001b[0m\n\u001b[0;32m    511\u001b[0m     \u001b[1;32mif\u001b[0m \u001b[0mreturn_argmin\u001b[0m\u001b[1;33m:\u001b[0m\u001b[1;33m\u001b[0m\u001b[0m\n",
      "\u001b[1;32mC:\\ProgramData\\Anaconda3\\lib\\site-packages\\hyperopt\\fmin.py\u001b[0m in \u001b[0;36mexhaust\u001b[1;34m(self)\u001b[0m\n\u001b[0;32m    328\u001b[0m     \u001b[1;32mdef\u001b[0m \u001b[0mexhaust\u001b[0m\u001b[1;33m(\u001b[0m\u001b[0mself\u001b[0m\u001b[1;33m)\u001b[0m\u001b[1;33m:\u001b[0m\u001b[1;33m\u001b[0m\u001b[0m\n\u001b[0;32m    329\u001b[0m         \u001b[0mn_done\u001b[0m \u001b[1;33m=\u001b[0m \u001b[0mlen\u001b[0m\u001b[1;33m(\u001b[0m\u001b[0mself\u001b[0m\u001b[1;33m.\u001b[0m\u001b[0mtrials\u001b[0m\u001b[1;33m)\u001b[0m\u001b[1;33m\u001b[0m\u001b[0m\n\u001b[1;32m--> 330\u001b[1;33m         \u001b[0mself\u001b[0m\u001b[1;33m.\u001b[0m\u001b[0mrun\u001b[0m\u001b[1;33m(\u001b[0m\u001b[0mself\u001b[0m\u001b[1;33m.\u001b[0m\u001b[0mmax_evals\u001b[0m \u001b[1;33m-\u001b[0m \u001b[0mn_done\u001b[0m\u001b[1;33m,\u001b[0m \u001b[0mblock_until_done\u001b[0m\u001b[1;33m=\u001b[0m\u001b[0mself\u001b[0m\u001b[1;33m.\u001b[0m\u001b[0masynchronous\u001b[0m\u001b[1;33m)\u001b[0m\u001b[1;33m\u001b[0m\u001b[0m\n\u001b[0m\u001b[0;32m    331\u001b[0m         \u001b[0mself\u001b[0m\u001b[1;33m.\u001b[0m\u001b[0mtrials\u001b[0m\u001b[1;33m.\u001b[0m\u001b[0mrefresh\u001b[0m\u001b[1;33m(\u001b[0m\u001b[1;33m)\u001b[0m\u001b[1;33m\u001b[0m\u001b[0m\n\u001b[0;32m    332\u001b[0m         \u001b[1;32mreturn\u001b[0m \u001b[0mself\u001b[0m\u001b[1;33m\u001b[0m\u001b[0m\n",
      "\u001b[1;32mC:\\ProgramData\\Anaconda3\\lib\\site-packages\\hyperopt\\fmin.py\u001b[0m in \u001b[0;36mrun\u001b[1;34m(self, N, block_until_done)\u001b[0m\n\u001b[0;32m    284\u001b[0m                 \u001b[1;32melse\u001b[0m\u001b[1;33m:\u001b[0m\u001b[1;33m\u001b[0m\u001b[0m\n\u001b[0;32m    285\u001b[0m                     \u001b[1;31m# -- loop over trials and do the jobs directly\u001b[0m\u001b[1;33m\u001b[0m\u001b[1;33m\u001b[0m\u001b[0m\n\u001b[1;32m--> 286\u001b[1;33m                     \u001b[0mself\u001b[0m\u001b[1;33m.\u001b[0m\u001b[0mserial_evaluate\u001b[0m\u001b[1;33m(\u001b[0m\u001b[1;33m)\u001b[0m\u001b[1;33m\u001b[0m\u001b[0m\n\u001b[0m\u001b[0;32m    287\u001b[0m \u001b[1;33m\u001b[0m\u001b[0m\n\u001b[0;32m    288\u001b[0m                 \u001b[0mself\u001b[0m\u001b[1;33m.\u001b[0m\u001b[0mtrials\u001b[0m\u001b[1;33m.\u001b[0m\u001b[0mrefresh\u001b[0m\u001b[1;33m(\u001b[0m\u001b[1;33m)\u001b[0m\u001b[1;33m\u001b[0m\u001b[0m\n",
      "\u001b[1;32mC:\\ProgramData\\Anaconda3\\lib\\site-packages\\hyperopt\\fmin.py\u001b[0m in \u001b[0;36mserial_evaluate\u001b[1;34m(self, N)\u001b[0m\n\u001b[0;32m    163\u001b[0m                 \u001b[0mctrl\u001b[0m \u001b[1;33m=\u001b[0m \u001b[0mbase\u001b[0m\u001b[1;33m.\u001b[0m\u001b[0mCtrl\u001b[0m\u001b[1;33m(\u001b[0m\u001b[0mself\u001b[0m\u001b[1;33m.\u001b[0m\u001b[0mtrials\u001b[0m\u001b[1;33m,\u001b[0m \u001b[0mcurrent_trial\u001b[0m\u001b[1;33m=\u001b[0m\u001b[0mtrial\u001b[0m\u001b[1;33m)\u001b[0m\u001b[1;33m\u001b[0m\u001b[0m\n\u001b[0;32m    164\u001b[0m                 \u001b[1;32mtry\u001b[0m\u001b[1;33m:\u001b[0m\u001b[1;33m\u001b[0m\u001b[0m\n\u001b[1;32m--> 165\u001b[1;33m                     \u001b[0mresult\u001b[0m \u001b[1;33m=\u001b[0m \u001b[0mself\u001b[0m\u001b[1;33m.\u001b[0m\u001b[0mdomain\u001b[0m\u001b[1;33m.\u001b[0m\u001b[0mevaluate\u001b[0m\u001b[1;33m(\u001b[0m\u001b[0mspec\u001b[0m\u001b[1;33m,\u001b[0m \u001b[0mctrl\u001b[0m\u001b[1;33m)\u001b[0m\u001b[1;33m\u001b[0m\u001b[0m\n\u001b[0m\u001b[0;32m    166\u001b[0m                 \u001b[1;32mexcept\u001b[0m \u001b[0mException\u001b[0m \u001b[1;32mas\u001b[0m \u001b[0me\u001b[0m\u001b[1;33m:\u001b[0m\u001b[1;33m\u001b[0m\u001b[0m\n\u001b[0;32m    167\u001b[0m                     \u001b[0mlogger\u001b[0m\u001b[1;33m.\u001b[0m\u001b[0merror\u001b[0m\u001b[1;33m(\u001b[0m\u001b[1;34m\"job exception: %s\"\u001b[0m \u001b[1;33m%\u001b[0m \u001b[0mstr\u001b[0m\u001b[1;33m(\u001b[0m\u001b[0me\u001b[0m\u001b[1;33m)\u001b[0m\u001b[1;33m)\u001b[0m\u001b[1;33m\u001b[0m\u001b[0m\n",
      "\u001b[1;32mC:\\ProgramData\\Anaconda3\\lib\\site-packages\\hyperopt\\base.py\u001b[0m in \u001b[0;36mevaluate\u001b[1;34m(self, config, ctrl, attach_attachments)\u001b[0m\n\u001b[0;32m    892\u001b[0m                 \u001b[0mprint_node_on_error\u001b[0m\u001b[1;33m=\u001b[0m\u001b[0mself\u001b[0m\u001b[1;33m.\u001b[0m\u001b[0mrec_eval_print_node_on_error\u001b[0m\u001b[1;33m,\u001b[0m\u001b[1;33m\u001b[0m\u001b[0m\n\u001b[0;32m    893\u001b[0m             )\n\u001b[1;32m--> 894\u001b[1;33m             \u001b[0mrval\u001b[0m \u001b[1;33m=\u001b[0m \u001b[0mself\u001b[0m\u001b[1;33m.\u001b[0m\u001b[0mfn\u001b[0m\u001b[1;33m(\u001b[0m\u001b[0mpyll_rval\u001b[0m\u001b[1;33m)\u001b[0m\u001b[1;33m\u001b[0m\u001b[0m\n\u001b[0m\u001b[0;32m    895\u001b[0m \u001b[1;33m\u001b[0m\u001b[0m\n\u001b[0;32m    896\u001b[0m         \u001b[1;32mif\u001b[0m \u001b[0misinstance\u001b[0m\u001b[1;33m(\u001b[0m\u001b[0mrval\u001b[0m\u001b[1;33m,\u001b[0m \u001b[1;33m(\u001b[0m\u001b[0mfloat\u001b[0m\u001b[1;33m,\u001b[0m \u001b[0mint\u001b[0m\u001b[1;33m,\u001b[0m \u001b[0mnp\u001b[0m\u001b[1;33m.\u001b[0m\u001b[0mnumber\u001b[0m\u001b[1;33m)\u001b[0m\u001b[1;33m)\u001b[0m\u001b[1;33m:\u001b[0m\u001b[1;33m\u001b[0m\u001b[0m\n",
      "\u001b[1;32m<ipython-input-312-e2dbca86d652>\u001b[0m in \u001b[0;36mobjective\u001b[1;34m(space)\u001b[0m\n\u001b[0;32m      1\u001b[0m \u001b[1;32mdef\u001b[0m \u001b[0mobjective\u001b[0m\u001b[1;33m(\u001b[0m\u001b[0mspace\u001b[0m\u001b[1;33m)\u001b[0m\u001b[1;33m:\u001b[0m\u001b[1;33m\u001b[0m\u001b[0m\n\u001b[0;32m      2\u001b[0m     \u001b[0mclf\u001b[0m \u001b[1;33m=\u001b[0m \u001b[0mlgb\u001b[0m\u001b[1;33m.\u001b[0m\u001b[0mLGBMRegressor\u001b[0m\u001b[1;33m(\u001b[0m\u001b[1;33m**\u001b[0m\u001b[0mspace\u001b[0m\u001b[1;33m)\u001b[0m\u001b[1;33m\u001b[0m\u001b[0m\n\u001b[1;32m----> 3\u001b[1;33m     \u001b[0mclf\u001b[0m\u001b[1;33m.\u001b[0m\u001b[0mfit\u001b[0m\u001b[1;33m(\u001b[0m\u001b[0mX_tr\u001b[0m\u001b[1;33m[\u001b[0m\u001b[1;33m:\u001b[0m\u001b[1;36m60000\u001b[0m\u001b[1;33m]\u001b[0m\u001b[1;33m,\u001b[0m \u001b[0my\u001b[0m\u001b[1;33m.\u001b[0m\u001b[0mvalues\u001b[0m\u001b[1;33m[\u001b[0m\u001b[1;33m:\u001b[0m\u001b[1;36m60000\u001b[0m\u001b[1;33m]\u001b[0m\u001b[1;33m)\u001b[0m\u001b[1;33m\u001b[0m\u001b[0m\n\u001b[0m\u001b[0;32m      4\u001b[0m     \u001b[0mpreds_test\u001b[0m \u001b[1;33m=\u001b[0m \u001b[0mclf\u001b[0m\u001b[1;33m.\u001b[0m\u001b[0mpredict\u001b[0m\u001b[1;33m(\u001b[0m\u001b[0mX_tr\u001b[0m\u001b[1;33m[\u001b[0m\u001b[1;36m60000\u001b[0m\u001b[1;33m:\u001b[0m\u001b[1;33m]\u001b[0m\u001b[1;33m)\u001b[0m\u001b[1;33m\u001b[0m\u001b[0m\n\u001b[0;32m      5\u001b[0m     \u001b[0mcurrent_score\u001b[0m \u001b[1;33m=\u001b[0m \u001b[0mMAPE\u001b[0m\u001b[1;33m(\u001b[0m\u001b[0my\u001b[0m\u001b[1;33m.\u001b[0m\u001b[0mvalues\u001b[0m\u001b[1;33m[\u001b[0m\u001b[1;36m60000\u001b[0m\u001b[1;33m:\u001b[0m\u001b[1;33m]\u001b[0m\u001b[1;33m,\u001b[0m \u001b[0mpreds_test\u001b[0m\u001b[1;33m)\u001b[0m\u001b[1;33m\u001b[0m\u001b[0m\n",
      "\u001b[1;32mC:\\ProgramData\\Anaconda3\\lib\\site-packages\\lightgbm\\sklearn.py\u001b[0m in \u001b[0;36mfit\u001b[1;34m(self, X, y, sample_weight, init_score, eval_set, eval_names, eval_sample_weight, eval_init_score, eval_metric, early_stopping_rounds, verbose, feature_name, categorical_feature, callbacks)\u001b[0m\n\u001b[0;32m    667\u001b[0m                                        \u001b[0mverbose\u001b[0m\u001b[1;33m=\u001b[0m\u001b[0mverbose\u001b[0m\u001b[1;33m,\u001b[0m \u001b[0mfeature_name\u001b[0m\u001b[1;33m=\u001b[0m\u001b[0mfeature_name\u001b[0m\u001b[1;33m,\u001b[0m\u001b[1;33m\u001b[0m\u001b[0m\n\u001b[0;32m    668\u001b[0m                                        \u001b[0mcategorical_feature\u001b[0m\u001b[1;33m=\u001b[0m\u001b[0mcategorical_feature\u001b[0m\u001b[1;33m,\u001b[0m\u001b[1;33m\u001b[0m\u001b[0m\n\u001b[1;32m--> 669\u001b[1;33m                                        callbacks=callbacks)\n\u001b[0m\u001b[0;32m    670\u001b[0m         \u001b[1;32mreturn\u001b[0m \u001b[0mself\u001b[0m\u001b[1;33m\u001b[0m\u001b[0m\n\u001b[0;32m    671\u001b[0m \u001b[1;33m\u001b[0m\u001b[0m\n",
      "\u001b[1;32mC:\\ProgramData\\Anaconda3\\lib\\site-packages\\lightgbm\\sklearn.py\u001b[0m in \u001b[0;36mfit\u001b[1;34m(self, X, y, sample_weight, init_score, group, eval_set, eval_names, eval_sample_weight, eval_class_weight, eval_init_score, eval_group, eval_metric, early_stopping_rounds, verbose, feature_name, categorical_feature, callbacks)\u001b[0m\n\u001b[0;32m    497\u001b[0m                               \u001b[0mverbose_eval\u001b[0m\u001b[1;33m=\u001b[0m\u001b[0mverbose\u001b[0m\u001b[1;33m,\u001b[0m \u001b[0mfeature_name\u001b[0m\u001b[1;33m=\u001b[0m\u001b[0mfeature_name\u001b[0m\u001b[1;33m,\u001b[0m\u001b[1;33m\u001b[0m\u001b[0m\n\u001b[0;32m    498\u001b[0m                               \u001b[0mcategorical_feature\u001b[0m\u001b[1;33m=\u001b[0m\u001b[0mcategorical_feature\u001b[0m\u001b[1;33m,\u001b[0m\u001b[1;33m\u001b[0m\u001b[0m\n\u001b[1;32m--> 499\u001b[1;33m                               callbacks=callbacks)\n\u001b[0m\u001b[0;32m    500\u001b[0m \u001b[1;33m\u001b[0m\u001b[0m\n\u001b[0;32m    501\u001b[0m         \u001b[1;32mif\u001b[0m \u001b[0mevals_result\u001b[0m\u001b[1;33m:\u001b[0m\u001b[1;33m\u001b[0m\u001b[0m\n",
      "\u001b[1;32mC:\\ProgramData\\Anaconda3\\lib\\site-packages\\lightgbm\\engine.py\u001b[0m in \u001b[0;36mtrain\u001b[1;34m(params, train_set, num_boost_round, valid_sets, valid_names, fobj, feval, init_model, feature_name, categorical_feature, early_stopping_rounds, evals_result, verbose_eval, learning_rates, keep_training_booster, callbacks)\u001b[0m\n\u001b[0;32m    206\u001b[0m                                     evaluation_result_list=None))\n\u001b[0;32m    207\u001b[0m \u001b[1;33m\u001b[0m\u001b[0m\n\u001b[1;32m--> 208\u001b[1;33m         \u001b[0mbooster\u001b[0m\u001b[1;33m.\u001b[0m\u001b[0mupdate\u001b[0m\u001b[1;33m(\u001b[0m\u001b[0mfobj\u001b[0m\u001b[1;33m=\u001b[0m\u001b[0mfobj\u001b[0m\u001b[1;33m)\u001b[0m\u001b[1;33m\u001b[0m\u001b[0m\n\u001b[0m\u001b[0;32m    209\u001b[0m \u001b[1;33m\u001b[0m\u001b[0m\n\u001b[0;32m    210\u001b[0m         \u001b[0mevaluation_result_list\u001b[0m \u001b[1;33m=\u001b[0m \u001b[1;33m[\u001b[0m\u001b[1;33m]\u001b[0m\u001b[1;33m\u001b[0m\u001b[0m\n",
      "\u001b[1;32mC:\\ProgramData\\Anaconda3\\lib\\site-packages\\lightgbm\\basic.py\u001b[0m in \u001b[0;36mupdate\u001b[1;34m(self, train_set, fobj)\u001b[0m\n\u001b[0;32m   1715\u001b[0m             _safe_call(_LIB.LGBM_BoosterUpdateOneIter(\n\u001b[0;32m   1716\u001b[0m                 \u001b[0mself\u001b[0m\u001b[1;33m.\u001b[0m\u001b[0mhandle\u001b[0m\u001b[1;33m,\u001b[0m\u001b[1;33m\u001b[0m\u001b[0m\n\u001b[1;32m-> 1717\u001b[1;33m                 ctypes.byref(is_finished)))\n\u001b[0m\u001b[0;32m   1718\u001b[0m             \u001b[0mself\u001b[0m\u001b[1;33m.\u001b[0m\u001b[0m__is_predicted_cur_iter\u001b[0m \u001b[1;33m=\u001b[0m \u001b[1;33m[\u001b[0m\u001b[1;32mFalse\u001b[0m \u001b[1;32mfor\u001b[0m \u001b[0m_\u001b[0m \u001b[1;32min\u001b[0m \u001b[0mrange_\u001b[0m\u001b[1;33m(\u001b[0m\u001b[0mself\u001b[0m\u001b[1;33m.\u001b[0m\u001b[0m__num_dataset\u001b[0m\u001b[1;33m)\u001b[0m\u001b[1;33m]\u001b[0m\u001b[1;33m\u001b[0m\u001b[0m\n\u001b[0;32m   1719\u001b[0m             \u001b[1;32mreturn\u001b[0m \u001b[0mis_finished\u001b[0m\u001b[1;33m.\u001b[0m\u001b[0mvalue\u001b[0m \u001b[1;33m==\u001b[0m \u001b[1;36m1\u001b[0m\u001b[1;33m\u001b[0m\u001b[0m\n",
      "\u001b[1;31mKeyboardInterrupt\u001b[0m: "
     ]
    }
   ],
   "source": [
    "best = fmin(fn=objective, space=space, algo=tpe.suggest, max_evals=50)"
   ]
  },
  {
   "cell_type": "code",
   "execution_count": 241,
   "metadata": {},
   "outputs": [],
   "source": [
    "params = copy.deepcopy(best)\n",
    "\n",
    "def params_check(params):\n",
    "    if params['boosting_type'] == 0:\n",
    "        params['boosting_type'] = 'gbdt'\n",
    "    elif params['boosting_type'] == 1:\n",
    "        params['boosting_type'] = 'dart'\n",
    "    \n",
    "    params['max_depth'] = int(params['max_depth'])\n",
    "    params['min_data_in_leaf'] = int(params['min_data_in_leaf'])\n",
    "    params['n_estimators'] = int(params['n_estimators'])\n",
    "    params['num_leaves'] = int(params['num_leaves'])\n",
    "    params['objective'] = 'mape'\n",
    "    params['seed'] = 42\n",
    "    return params"
   ]
  },
  {
   "cell_type": "code",
   "execution_count": 242,
   "metadata": {},
   "outputs": [],
   "source": [
    "params = params_check(params)"
   ]
  },
  {
   "cell_type": "code",
   "execution_count": 326,
   "metadata": {},
   "outputs": [
    {
     "data": {
      "text/plain": [
       "{'bagging_fraction': 0.8536513990415224,\n",
       " 'boosting_type': 'gbdt',\n",
       " 'feature_fraction': 0.7494500530418614,\n",
       " 'lambda_l1': 1.1543145714580136,\n",
       " 'lambda_l2': 4.114529331698519,\n",
       " 'learning_rate': 0.039244815378996545,\n",
       " 'max_depth': 8,\n",
       " 'min_data_in_leaf': 349,\n",
       " 'min_sum_hessian_in_leaf': 2.5076550408793765,\n",
       " 'n_estimators': 730,\n",
       " 'num_leaves': 286,\n",
       " 'objective': 'mape',\n",
       " 'seed': 42}"
      ]
     },
     "execution_count": 326,
     "metadata": {},
     "output_type": "execute_result"
    }
   ],
   "source": [
    "params"
   ]
  },
  {
   "cell_type": "code",
   "execution_count": 327,
   "metadata": {},
   "outputs": [
    {
     "name": "stdout",
     "output_type": "stream",
     "text": [
      "54.81803294560926\n"
     ]
    }
   ],
   "source": [
    "clf = lgb.LGBMRegressor(**params)\n",
    "clf.fit(X_tr[:60000], y.values[:60000])\n",
    "preds_test = clf.predict(X_tr[60000:])\n",
    "print(MAPE(y.values[60000:], preds_test))"
   ]
  },
  {
   "cell_type": "code",
   "execution_count": 246,
   "metadata": {},
   "outputs": [
    {
     "data": {
      "text/plain": [
       "99.00259131664446"
      ]
     },
     "execution_count": 246,
     "metadata": {},
     "output_type": "execute_result"
    }
   ],
   "source": [
    "preds_test.max()"
   ]
  },
  {
   "cell_type": "code",
   "execution_count": 323,
   "metadata": {},
   "outputs": [],
   "source": [
    "test = pd.read_csv('test.csv', sep=';')"
   ]
  },
  {
   "cell_type": "code",
   "execution_count": 324,
   "metadata": {},
   "outputs": [],
   "source": [
    "test = pipeline(test)"
   ]
  },
  {
   "cell_type": "code",
   "execution_count": 329,
   "metadata": {},
   "outputs": [],
   "source": [
    "test_preds = clf.predict(test)"
   ]
  },
  {
   "cell_type": "code",
   "execution_count": 333,
   "metadata": {},
   "outputs": [
    {
     "data": {
      "text/plain": [
       "(array([ 39., 133., 376., 760., 640., 413., 110.,  44.,  18.,   1.]),\n",
       " array([39.2607853 , 44.31139389, 49.36200249, 54.41261108, 59.46321968,\n",
       "        64.51382827, 69.56443686, 74.61504546, 79.66565405, 84.71626265,\n",
       "        89.76687124]),\n",
       " <a list of 10 Patch objects>)"
      ]
     },
     "execution_count": 333,
     "metadata": {},
     "output_type": "execute_result"
    },
    {
     "data": {
      "image/png": "[encoded data removed]",
      "text/plain": [
       "<Figure size 432x288 with 1 Axes>"
      ]
     },
     "metadata": {},
     "output_type": "display_data"
    }
   ],
   "source": [
    "plt.hist(test_preds)"
   ]
  }
 ],
 "metadata": {
  "kernelspec": {
   "display_name": "Python 3",
   "language": "python",
   "name": "python3"
  },
  "language_info": {
   "codemirror_mode": {
    "name": "ipython",
    "version": 3
   },
   "file_extension": ".py",
   "mimetype": "text/x-python",
   "name": "python",
   "nbconvert_exporter": "python",
   "pygments_lexer": "ipython3",
   "version": "3.6.5"
  }
 },
 "nbformat": 4,
 "nbformat_minor": 2
}
